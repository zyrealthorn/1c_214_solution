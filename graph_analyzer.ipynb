{
 "cells": [
  {
   "cell_type": "code",
   "execution_count": 1,
   "id": "55e8acc6",
   "metadata": {},
   "outputs": [],
   "source": [
    "import sys\n",
    "import numpy as np\n",
    "import cv2 as cv\n",
    "import math\n",
    "import imutils"
   ]
  },
  {
   "cell_type": "code",
   "execution_count": 2,
   "id": "e318ec75",
   "metadata": {},
   "outputs": [],
   "source": [
    "def mask():\n",
    "    mask = np.ones((7,7))\n",
    "    mask[0, 0] = 0\n",
    "    mask[0, 1] = 0\n",
    "    mask[0, 5] = 0\n",
    "    mask[0, 6] = 0\n",
    "    mask[1, 0] = 0\n",
    "    mask[1, 6] = 0\n",
    "    mask[5, 0] = 0\n",
    "    mask[5, 6] = 0\n",
    "    mask[6, 0] = 0\n",
    "    mask[6, 1] = 0\n",
    "    mask[6, 5] = 0\n",
    "    mask[6, 6] = 0\n",
    "    return mask"
   ]
  },
  {
   "cell_type": "code",
   "execution_count": 3,
   "id": "7d81ca61",
   "metadata": {},
   "outputs": [],
   "source": [
    "def plot_image(image, title):\n",
    "    plt.figure()\n",
    "\n",
    "    plt.title(title)\n",
    "    plt.imshow(image,cmap = 'gray')\n",
    "\n",
    "    plt.show()"
   ]
  },
  {
   "cell_type": "code",
   "execution_count": 4,
   "id": "406529a4",
   "metadata": {},
   "outputs": [],
   "source": [
    "def SUSAN_corner_detector(img):\n",
    "    img = img.astype(np.float64)\n",
    "    g = 18.5\n",
    "    circle = mask()\n",
    "    corners = np.zeros(img.shape)\n",
    "\n",
    "    for i in range(3, img.shape[0] - 3):\n",
    "        for j in range(3, img.shape[1] - 3):\n",
    "            im = np.array(img[i - 3:i + 4, j - 3:j + 4])\n",
    "            im =  im[circle == 1]\n",
    "            im0 = img[i, j]\n",
    "            val = np.sum(np.exp(-((im - im0) / 10)**6))\n",
    "            if val <= g:\n",
    "                val = g - val\n",
    "            else:\n",
    "                val = 0\n",
    "            corners[i, j] = val\n",
    "    return corners"
   ]
  },
  {
   "cell_type": "code",
   "execution_count": 5,
   "id": "f8b098c3",
   "metadata": {},
   "outputs": [],
   "source": [
    "def distance_from_positives(corners):\n",
    "    distance = np.zeros((corners.shape[0], corners.shape[1]))\n",
    "    for i in range(0, corners.shape[0]):\n",
    "        for j in range(0, corners.shape[1]):\n",
    "            if corners[i, j] > 0:\n",
    "                distance[i, j] = 0\n",
    "            else:\n",
    "                radius = 0\n",
    "                check = 0\n",
    "                while radius < 10 and check == 0:\n",
    "                    radius = radius + 1\n",
    "                    for m in range(max(i - radius, 0), min(i + radius + 1, corners.shape[0])):\n",
    "                        for n in range(max(j - radius, 0), min(j + radius + 1, corners.shape[1])):\n",
    "                            if corners[m, n] > 0:\n",
    "                                check = check + 1\n",
    "                distance[i, j] = radius\n",
    "    return distance"
   ]
  },
  {
   "cell_type": "code",
   "execution_count": 6,
   "id": "2d872fd6",
   "metadata": {},
   "outputs": [],
   "source": [
    "def count_objects(img):\n",
    "    grayImage = cv.cvtColor(img, cv.COLOR_BGR2GRAY)\n",
    "    edgedImage = cv.Canny(grayImage, 50, 130)\n",
    "    imgContours = cv.findContours(edgedImage.copy(), cv.RETR_EXTERNAL, cv.CHAIN_APPROX_SIMPLE)\n",
    "    grabbedContours = imutils.grab_contours(imgContours)\n",
    "    return len(grabbedContours)"
   ]
  },
  {
   "cell_type": "code",
   "execution_count": 9,
   "id": "a0417294",
   "metadata": {},
   "outputs": [
    {
     "name": "stdout",
     "output_type": "stream",
     "text": [
      "5\n",
      "Number of edge intersections: 3\n"
     ]
    }
   ],
   "source": [
    "img = cv.imread(\"graph_1.png\", 0)\n",
    "vertexNumber = int(input())\n",
    "\n",
    "corners = SUSAN_corner_detector(img)\n",
    "distance = distance_from_positives(corners)\n",
    "\n",
    "img = cv.cvtColor(img, cv.COLOR_GRAY2RGB)\n",
    "img[distance <= 8] = [0, 0, 0]\n",
    "img[distance > 8] = [255, 255, 255]\n",
    "\n",
    "print (\"Number of edge intersections:\", count_objects(img) - vertexNumber)\n"
   ]
  }
 ],
 "metadata": {
  "kernelspec": {
   "display_name": "Python 3 (ipykernel)",
   "language": "python",
   "name": "python3"
  },
  "language_info": {
   "codemirror_mode": {
    "name": "ipython",
    "version": 3
   },
   "file_extension": ".py",
   "mimetype": "text/x-python",
   "name": "python",
   "nbconvert_exporter": "python",
   "pygments_lexer": "ipython3",
   "version": "3.9.7"
  }
 },
 "nbformat": 4,
 "nbformat_minor": 5
}
